{
  "cells": [
    {
      "cell_type": "code",
      "source": [
        "!pip install jupyter-dash"
      ],
      "metadata": {
        "id": "CnUugcHu0jRb"
      },
      "execution_count": null,
      "outputs": []
    },
    {
      "cell_type": "code",
      "execution_count": null,
      "metadata": {
        "id": "J_i0ctWHzvMs"
      },
      "outputs": [],
      "source": [
        "from google.colab import drive"
      ]
    },
    {
      "cell_type": "code",
      "execution_count": null,
      "metadata": {
        "colab": {
          "base_uri": "https://localhost:8080/"
        },
        "id": "Mfyvx7mw0EA9",
        "outputId": "dc5ed9a7-b283-4e4e-82ed-ae734147212c"
      },
      "outputs": [
        {
          "output_type": "stream",
          "name": "stdout",
          "text": [
            "Mounted at /content/drive\n"
          ]
        }
      ],
      "source": [
        "drive.mount('/content/drive')"
      ]
    },
    {
      "cell_type": "code",
      "execution_count": null,
      "metadata": {
        "id": "mHKAx5Fpdtkp"
      },
      "outputs": [],
      "source": [
        "import pandas as pd\n",
        "data = pd.read_json('/content/drive/MyDrive/user_bot_data/data.json')\n",
        "senti_data = pd.read_json('/content/drive/MyDrive/user_bot_data/emotional_sentimental.json')\n"
      ]
    },
    {
      "cell_type": "code",
      "execution_count": null,
      "metadata": {
        "id": "HTYx4QjDMFnw"
      },
      "outputs": [],
      "source": [
        "import pandas as pd\n",
        "\n",
        "# Load the dataset\n",
        "data = pd.read_json('/content/drive/MyDrive/user_bot_data/help.json')\n"
      ]
    },
    {
      "cell_type": "code",
      "execution_count": null,
      "metadata": {
        "id": "UQCyotJG2F-0",
        "colab": {
          "base_uri": "https://localhost:8080/"
        },
        "outputId": "d129b26a-c23f-461d-f2ca-73b87698484f"
      },
      "outputs": [
        {
          "output_type": "stream",
          "name": "stdout",
          "text": [
            "Data Information:\n",
            "<class 'pandas.core.frame.DataFrame'>\n",
            "RangeIndex: 3361 entries, 0 to 3360\n",
            "Data columns (total 2 columns):\n",
            " #   Column   Non-Null Count  Dtype \n",
            "---  ------   --------------  ----- \n",
            " 0   user     3361 non-null   object\n",
            " 1   chatbot  3361 non-null   object\n",
            "dtypes: object(2)\n",
            "memory usage: 52.6+ KB\n",
            "None\n",
            "\n",
            "First Few Rows:\n",
            "                                                user  \\\n",
            "0  I'm so frustrated with my job. I can't stand m...   \n",
            "1  I had a huge argument with my roommate. I can'...   \n",
            "2  My partner and I had a heated argument last ni...   \n",
            "3  I got a low grade on my exam, and I'm furious ...   \n",
            "4  I'm angry about the current political situatio...   \n",
            "\n",
            "                                             chatbot  \n",
            "0  Work frustrations can be tough. Let's talk abo...  \n",
            "1  Roommate conflicts happen. Let's discuss confl...  \n",
            "2  Relationship conflicts can be challenging. Let...  \n",
            "3  Academic setbacks can be frustrating. Let's ex...  \n",
            "4  Political frustrations are common. Let's discu...  \n",
            "\n",
            "Last Few Rows:\n",
            "                                                   user  \\\n",
            "3356  I discovered a hidden cavern with stunning cry...   \n",
            "3357  I received an unexpected visit from a childhoo...   \n",
            "3358  I spotted a rare species of orchid in a botani...   \n",
            "3359  I was surprised with a serenade from a street ...   \n",
            "3360  I discovered a secret beach cove while explori...   \n",
            "\n",
            "                                                chatbot  \n",
            "3356  Discovering a hidden cavern with stunning crys...  \n",
            "3357  An unexpected visit from a childhood friend wh...  \n",
            "3358  Spotting a rare species of orchid in a botanic...  \n",
            "3359  A surprise serenade from a street musician whi...  \n",
            "3360  Discovering a secret beach cove while explorin...  \n"
          ]
        }
      ],
      "source": [
        "import pandas as pd   #data summary\n",
        "\n",
        "# Load your data into a Pandas DataFrame\n",
        "data = pd.read_json('/content/drive/MyDrive/user_bot_data/data.json')\n",
        "\n",
        "\n",
        "# Display basic information about the data\n",
        "print(\"Data Information:\")\n",
        "print(data.info())\n",
        "\n",
        "# View the first few rows of the data\n",
        "print(\"\\nFirst Few Rows:\")\n",
        "print(data.head())\n",
        "\n",
        "# View the last few rows of the data\n",
        "print(\"\\nLast Few Rows:\")\n",
        "print(data.tail())\n"
      ]
    },
    {
      "cell_type": "code",
      "execution_count": null,
      "metadata": {
        "id": "L6DfdVyL2mGc",
        "colab": {
          "base_uri": "https://localhost:8080/"
        },
        "outputId": "d9f0c4a4-2d5f-47fc-c516-c759300dde3f"
      },
      "outputs": [
        {
          "output_type": "stream",
          "name": "stdout",
          "text": [
            "Missing Values:\n",
            "user       0\n",
            "chatbot    0\n",
            "dtype: int64\n",
            "\n",
            "Missing Values After Handling:\n",
            "user       0\n",
            "chatbot    0\n",
            "dtype: int64\n"
          ]
        }
      ],
      "source": [
        "import pandas as pd  #data cleaning\n",
        "\n",
        "# Load your data into a Pandas DataFrame\n",
        "data = pd.read_json('/content/drive/MyDrive/user_bot_data/data.json')\n",
        "\n",
        "# Check for missing values in the dataset\n",
        "missing_values = data.isna().sum()\n",
        "\n",
        "# Display the count of missing values for each column\n",
        "print(\"Missing Values:\")\n",
        "print(missing_values)\n",
        "\n",
        "# Handle missing values\n",
        "# Replace NaN values in the 'user' and 'chatbot' columns with a placeholder text like \"No data available\"\n",
        "data['user'].fillna(\"No data available\", inplace=True)\n",
        "data['chatbot'].fillna(\"No data available\", inplace=True)\n",
        "\n",
        "# Verify that missing values have been handled\n",
        "missing_values_after_handling = data.isna().sum()\n",
        "print(\"\\nMissing Values After Handling:\")\n",
        "print(missing_values_after_handling)\n"
      ]
    },
    {
      "cell_type": "code",
      "execution_count": null,
      "metadata": {
        "id": "L_3LhP77WUFH",
        "colab": {
          "base_uri": "https://localhost:8080/"
        },
        "outputId": "08a76dd6-886c-440b-f3c3-4bd89f58e587"
      },
      "outputs": [
        {
          "output_type": "stream",
          "name": "stdout",
          "text": [
            "Missing Values:\n",
            "text               72\n",
            "label               0\n",
            "topic               0\n",
            "response_type       0\n",
            "user             2540\n",
            "chatbot          2540\n",
            "dtype: int64\n",
            "\n",
            "Missing Values After Handling:\n",
            "text             72\n",
            "label             0\n",
            "topic             0\n",
            "response_type     0\n",
            "user              0\n",
            "chatbot           0\n",
            "dtype: int64\n"
          ]
        }
      ],
      "source": [
        "import pandas as pd  #data cleaning\n",
        "\n",
        "# Load your data into a Pandas DataFrame\n",
        "data = pd.read_json('/content/drive/MyDrive/user_bot_data/emotional_sentimental.json')\n",
        "\n",
        "# Check for missing values in the dataset\n",
        "missing_values = data.isna().sum()  #checks for missing values in the dataset\n",
        "\n",
        "# Display the count of missing values for each column\n",
        "print(\"Missing Values:\")\n",
        "print(missing_values)\n",
        "\n",
        "# Handle missing values\n",
        "# Replace NaN values in the 'user' and 'chatbot' columns with a placeholder text like \"No data available\"\n",
        "data['user'].fillna(\"No data available\", inplace=True)  #code replaces NaN values in the 'user' and 'chatbot' columns with a placeholder text\n",
        "data['chatbot'].fillna(\"No data available\", inplace=True)\n",
        "\n",
        "# Verify that missing values have been handled\n",
        "missing_values_after_handling = data.isna().sum()\n",
        "print(\"\\nMissing Values After Handling:\")\n",
        "print(missing_values_after_handling)\n"
      ]
    },
    {
      "cell_type": "code",
      "execution_count": null,
      "metadata": {
        "id": "55i3EaUG438d",
        "colab": {
          "base_uri": "https://localhost:8080/"
        },
        "outputId": "86cc89c4-e3c4-49a9-f02b-028439d058eb"
      },
      "outputs": [
        {
          "output_type": "stream",
          "name": "stdout",
          "text": [
            "Numerical Data Statistics:\n",
            "                                                     text  label       topic  \\\n",
            "count                                                2540   2612        2612   \n",
            "unique                                               2373     22        1517   \n",
            "top     I feel guilty for not donating to a charity wh...  Guilt  Friendship   \n",
            "freq                                                    5    261          66   \n",
            "\n",
            "       response_type               user            chatbot  \n",
            "count           2612               2612               2612  \n",
            "unique           832                 73                 73  \n",
            "top             Envy  No data available  No data available  \n",
            "freq             185               2540               2540  \n"
          ]
        }
      ],
      "source": [
        "# Calculate basic statistics for numerical columns\n",
        "numerical_stats = data.describe()\n",
        "print(\"Numerical Data Statistics:\")  #to compute various statistics, including measures of central tendency and dispersion\n",
        "print(numerical_stats)   #output includes statistics such as count, mean, standard deviation, minimum, and various percentiles (25%, 50%, and 75%).\n"
      ]
    },
    {
      "cell_type": "code",
      "execution_count": null,
      "metadata": {
        "id": "Zt-R-L1stDEZ",
        "colab": {
          "base_uri": "https://localhost:8080/"
        },
        "outputId": "b6e746fb-05a7-4de7-ace1-26fedf86133b"
      },
      "outputs": [
        {
          "output_type": "stream",
          "name": "stderr",
          "text": [
            "[nltk_data] Downloading package vader_lexicon to /root/nltk_data...\n"
          ]
        },
        {
          "output_type": "stream",
          "name": "stdout",
          "text": [
            "                                                user  \\\n",
            "0  I'm so frustrated with my job. I can't stand m...   \n",
            "1  I had a huge argument with my roommate. I can'...   \n",
            "2  My partner and I had a heated argument last ni...   \n",
            "3  I got a low grade on my exam, and I'm furious ...   \n",
            "4  I'm angry about the current political situatio...   \n",
            "\n",
            "                                      user_sentiment  \\\n",
            "0  {'neg': 0.27, 'neu': 0.73, 'pos': 0.0, 'compou...   \n",
            "1  {'neg': 0.35, 'neu': 0.47, 'pos': 0.18, 'compo...   \n",
            "2  {'neg': 0.2, 'neu': 0.8, 'pos': 0.0, 'compound...   \n",
            "3  {'neg': 0.392, 'neu': 0.608, 'pos': 0.0, 'comp...   \n",
            "4  {'neg': 0.248, 'neu': 0.752, 'pos': 0.0, 'comp...   \n",
            "\n",
            "                                             chatbot  \\\n",
            "0  Work frustrations can be tough. Let's talk abo...   \n",
            "1  Roommate conflicts happen. Let's discuss confl...   \n",
            "2  Relationship conflicts can be challenging. Let...   \n",
            "3  Academic setbacks can be frustrating. Let's ex...   \n",
            "4  Political frustrations are common. Let's discu...   \n",
            "\n",
            "                                   chatbot_sentiment  \n",
            "0  {'neg': 0.422, 'neu': 0.578, 'pos': 0.0, 'comp...  \n",
            "1  {'neg': 0.327, 'neu': 0.467, 'pos': 0.207, 'co...  \n",
            "2  {'neg': 0.155, 'neu': 0.595, 'pos': 0.25, 'com...  \n",
            "3  {'neg': 0.225, 'neu': 0.775, 'pos': 0.0, 'comp...  \n",
            "4  {'neg': 0.214, 'neu': 0.786, 'pos': 0.0, 'comp...  \n"
          ]
        }
      ],
      "source": [
        "import pandas as pd\n",
        "import nltk\n",
        "from nltk.sentiment.vader import SentimentIntensityAnalyzer\n",
        "\n",
        "# Initialize the sentiment analyzer\n",
        "nltk.download('vader_lexicon')#SentimentIntensityAnalyzer  from NLTK's vader module is imported\n",
        "sid = SentimentIntensityAnalyzer()#analyzer is used to perform sentiment analysis on text data.\n",
        "\n",
        "# Load the Pandas DataFrame\n",
        "data = pd.read_json('/content/drive/MyDrive/user_bot_data/data.json')\n",
        "\n",
        "# Applying sentiment analysis to the 'user' and 'chatbot' columns\n",
        "#lambda function that calculates sentiment scores using sid.polarity_scores(text).\n",
        "data['user_sentiment'] = data['user'].apply(lambda text: sid.polarity_scores(text)) #Sentiment analysis is applied to both the 'user'\n",
        "data['chatbot_sentiment'] = data['chatbot'].apply(lambda text: sid.polarity_scores(text)) #and 'chatbot' columns using the VADER sentiment analyzer\n",
        "\n",
        "\n",
        "\n",
        "# Print the first few rows with sentiment scores\n",
        "print(data[['user', 'user_sentiment', 'chatbot', 'chatbot_sentiment']].head())\n"
      ]
    },
    {
      "cell_type": "code",
      "execution_count": null,
      "metadata": {
        "id": "M-Oy49wdmcrN",
        "colab": {
          "base_uri": "https://localhost:8080/",
          "height": 634
        },
        "outputId": "88b83f82-adfd-4cab-aec2-ea590a937f61"
      },
      "outputs": [
        {
          "output_type": "stream",
          "name": "stdout",
          "text": [
            "       user_message_length  chatbot_response_length\n",
            "count          3361.000000              3361.000000\n",
            "mean             88.178518               105.938114\n",
            "std              17.689256                20.524674\n",
            "min              34.000000                48.000000\n",
            "25%              77.000000                90.000000\n",
            "50%              87.000000               103.000000\n",
            "75%              99.000000               119.000000\n",
            "max             166.000000               215.000000\n"
          ]
        },
        {
          "output_type": "display_data",
          "data": {
            "text/plain": [
              "<Figure size 640x480 with 1 Axes>"
            ],
            "image/png": "[encoded data removed]"
          },
          "metadata": {}
        }
      ],
      "source": [
        "import pandas as pd #data visualization histogram\n",
        "import matplotlib.pyplot as plt   #data visualizations, including histograms\n",
        "\n",
        "# Load the data\n",
        "data = pd.read_json('/content/drive/MyDrive/user_bot_data/data.json')\n",
        "\n",
        "# Calculate the length of each user message\n",
        "data['user_message_length'] = data['user'].apply(len)\n",
        "\n",
        "# Calculate the length of each chatbot response\n",
        "data['chatbot_response_length'] = data['chatbot'].apply(len)\n",
        "\n",
        "# Basic data summary\n",
        "summary = data.describe()\n",
        "print(summary)\n",
        "\n",
        "# Create histograms for user message length and chatbot response length\n",
        "plt.hist(data['user_message_length'], bins=20, edgecolor='k', label='User Messages', alpha=0.7)\n",
        "plt.hist(data['chatbot_response_length'], bins=20, edgecolor='k', label='Chatbot Responses', alpha=0.7)\n",
        "plt.xlabel('Message Length')\n",
        "plt.ylabel('Frequency')\n",
        "plt.title('Distribution of Message Lengths')\n",
        "plt.legend()\n",
        "plt.show()\n",
        "\n",
        "\n",
        "\n",
        "\n"
      ]
    },
    {
      "cell_type": "code",
      "execution_count": null,
      "metadata": {
        "id": "zL-bPpD_WrsG",
        "colab": {
          "base_uri": "https://localhost:8080/",
          "height": 634
        },
        "outputId": "44669cc8-5ecc-4e6f-bb07-818090c85b65"
      },
      "outputs": [
        {
          "output_type": "stream",
          "name": "stdout",
          "text": [
            "       user_message_length  chatbot_response_length\n",
            "count          2540.000000              2540.000000\n",
            "mean             87.937795                16.014567\n",
            "std              19.893772                 7.322925\n",
            "min              37.000000                 4.000000\n",
            "25%              74.000000                10.000000\n",
            "50%              84.000000                16.000000\n",
            "75%             104.000000                20.000000\n",
            "max             152.000000                48.000000\n"
          ]
        },
        {
          "output_type": "display_data",
          "data": {
            "text/plain": [
              "<Figure size 640x480 with 1 Axes>"
            ],
            "image/png": "[encoded data removed]"
          },
          "metadata": {}
        }
      ],
      "source": [
        "import pandas as pd\n",
        "import matplotlib.pyplot as plt  #Data Filtering,Calculate Message Lengths,\n",
        "\n",
        "# Load the data\n",
        "data = pd.read_json('/content/drive/MyDrive/user_bot_data/emotional_sentimental.json')\n",
        "\n",
        "# Filter out rows where 'user' or 'chatbot' is not a string\n",
        "data = data[data['text'].apply(lambda x: isinstance(x, str))]\n",
        "\n",
        "# Calculate the length of each user message\n",
        "data['user_message_length'] = data['text'].apply(len) #representing user messages\n",
        "\n",
        "# Calculate the length of each chatbot response\n",
        "data['chatbot_response_length'] = data['response_type'].apply(len)\n",
        "\n",
        "# Basic data summary\n",
        "summary = data.describe()\n",
        "print(summary)\n",
        "\n",
        "# Create histograms for user message length and chatbot response length\n",
        "plt.hist(data['user_message_length'], bins=20, edgecolor='k', label='User Messages', alpha=0.7)\n",
        "plt.hist(data['chatbot_response_length'], bins=20, edgecolor='k', label='Chatbot Responses', alpha=0.7)\n",
        "plt.xlabel('Message Length')\n",
        "plt.ylabel('Frequency')\n",
        "plt.title('Distribution of Message Lengths')\n",
        "plt.legend()\n",
        "plt.show()\n"
      ]
    },
    {
      "cell_type": "code",
      "execution_count": null,
      "metadata": {
        "id": "JQS13_Twp5LF",
        "colab": {
          "base_uri": "https://localhost:8080/",
          "height": 743
        },
        "outputId": "d2b36dce-f980-4ed4-ecde-64fc29e56adc"
      },
      "outputs": [
        {
          "output_type": "stream",
          "name": "stdout",
          "text": [
            "Average User Message Length: 87.94 characters\n",
            "Average Chatbot Response Length: 16.01 characters\n"
          ]
        },
        {
          "output_type": "display_data",
          "data": {
            "text/plain": [
              "<Figure size 1000x600 with 1 Axes>"
            ],
            "image/png": "[encoded data removed]"
          },
          "metadata": {}
        },
        {
          "output_type": "stream",
          "name": "stdout",
          "text": [
            "       user_message_length  chatbot_response_length\n",
            "count          2540.000000              2540.000000\n",
            "mean             87.937795                16.014567\n",
            "std              19.893772                 7.322925\n",
            "min              37.000000                 4.000000\n",
            "25%              74.000000                10.000000\n",
            "50%              84.000000                16.000000\n",
            "75%             104.000000                20.000000\n",
            "max             152.000000                48.000000\n"
          ]
        }
      ],
      "source": [
        "# Calculate the average message length for users and chatbot responses\n",
        "\n",
        "#calculating and visualizing average message lengths and using box plots for data analysis:\n",
        "average_user_message_length = data['user_message_length'].mean()\n",
        "average_chatbot_response_length = data['chatbot_response_length'].mean()\n",
        "\n",
        "# Print the calculated average message lengths\n",
        "print(f'Average User Message Length: {average_user_message_length:.2f} characters') #ensures that the values are displayed with two decimal places.\n",
        "print(f'Average Chatbot Response Length: {average_chatbot_response_length:.2f} characters')\n",
        "\n",
        "# Visualize the distribution of message lengths using box plots\n",
        "plt.figure(figsize=(10, 6))\n",
        "plt.boxplot([data['user_message_length'], data['chatbot_response_length']], labels=['User Messages', 'Chatbot Responses'])\n",
        "plt.ylabel('Message Length (characters)')\n",
        "plt.title('Distribution of Message Lengths')\n",
        "plt.show()\n",
        "\n",
        "# Analyze the descriptive statistics of message lengths\n",
        "message_length_stats = data[['user_message_length', 'chatbot_response_length']].describe()\n",
        "print(message_length_stats)\n"
      ]
    },
    {
      "cell_type": "code",
      "execution_count": null,
      "metadata": {
        "id": "_lK3_A2rZtjx"
      },
      "outputs": [],
      "source": [
        "# Check the column names in your DataFrame\n",
        "column_names = data.columns\n",
        "print(column_names)\n"
      ]
    },
    {
      "cell_type": "code",
      "execution_count": null,
      "metadata": {
        "id": "36VQ6DVX5Yo3",
        "colab": {
          "base_uri": "https://localhost:8080/"
        },
        "outputId": "9998d17e-cd8b-4c59-c429-3009f4f660e5"
      },
      "outputs": [
        {
          "output_type": "stream",
          "name": "stderr",
          "text": [
            "[nltk_data] Downloading package vader_lexicon to /root/nltk_data...\n",
            "[nltk_data]   Package vader_lexicon is already up-to-date!\n"
          ]
        },
        {
          "output_type": "stream",
          "name": "stdout",
          "text": [
            "                                                user  \\\n",
            "0  I'm so frustrated with my job. I can't stand m...   \n",
            "1  I had a huge argument with my roommate. I can'...   \n",
            "2  My partner and I had a heated argument last ni...   \n",
            "3  I got a low grade on my exam, and I'm furious ...   \n",
            "4  I'm angry about the current political situatio...   \n",
            "\n",
            "                                      user_sentiment  \\\n",
            "0  {'neg': 0.27, 'neu': 0.73, 'pos': 0.0, 'compou...   \n",
            "1  {'neg': 0.35, 'neu': 0.47, 'pos': 0.18, 'compo...   \n",
            "2  {'neg': 0.2, 'neu': 0.8, 'pos': 0.0, 'compound...   \n",
            "3  {'neg': 0.392, 'neu': 0.608, 'pos': 0.0, 'comp...   \n",
            "4  {'neg': 0.248, 'neu': 0.752, 'pos': 0.0, 'comp...   \n",
            "\n",
            "                                             chatbot  \\\n",
            "0  Work frustrations can be tough. Let's talk abo...   \n",
            "1  Roommate conflicts happen. Let's discuss confl...   \n",
            "2  Relationship conflicts can be challenging. Let...   \n",
            "3  Academic setbacks can be frustrating. Let's ex...   \n",
            "4  Political frustrations are common. Let's discu...   \n",
            "\n",
            "                                   chatbot_sentiment  \n",
            "0  {'neg': 0.422, 'neu': 0.578, 'pos': 0.0, 'comp...  \n",
            "1  {'neg': 0.327, 'neu': 0.467, 'pos': 0.207, 'co...  \n",
            "2  {'neg': 0.155, 'neu': 0.595, 'pos': 0.25, 'com...  \n",
            "3  {'neg': 0.225, 'neu': 0.775, 'pos': 0.0, 'comp...  \n",
            "4  {'neg': 0.214, 'neu': 0.786, 'pos': 0.0, 'comp...  \n"
          ]
        }
      ],
      "source": [
        "\n",
        "                #sentiment analysis using the VADER sentiment analyzer:\n",
        "import nltk\n",
        "from nltk.sentiment.vader import SentimentIntensityAnalyzer\n",
        "import pandas as pd\n",
        "\n",
        "# Load your data from the JSON file\n",
        "data = pd.read_json('/content/drive/MyDrive/user_bot_data/data.json')\n",
        "\n",
        "# Initialize the sentiment analyzer\n",
        "nltk.download('vader_lexicon')\n",
        "sid = SentimentIntensityAnalyzer()\n",
        "\n",
        "# Filter out rows where 'user' and 'chatbot' are not strings\n",
        "data = data[data['user'].apply(lambda x: isinstance(x, str))]\n",
        "data = data[data['chatbot'].apply(lambda x: isinstance(x, str))]\n",
        "\n",
        "# Create a new column for sentiment scores\n",
        "data['user_sentiment'] = data['user'].apply(lambda text: sid.polarity_scores(text))#calculates the sentiment polarity scores, including positive,\n",
        "data['chatbot_sentiment'] = data['chatbot'].apply(lambda text: sid.polarity_scores(text))# negative, neutral, and compound scores for each text.\n",
        "\n",
        "# Print the first few rows with sentiment scores\n",
        "print(data[['user', 'user_sentiment', 'chatbot', 'chatbot_sentiment']].head())\n"
      ]
    },
    {
      "cell_type": "code",
      "execution_count": null,
      "metadata": {
        "id": "vF3qmt5U9EWn",
        "colab": {
          "base_uri": "https://localhost:8080/",
          "height": 1000
        },
        "outputId": "c688bd76-4fb1-4626-862c-7ba394748e56"
      },
      "outputs": [
        {
          "output_type": "stream",
          "name": "stdout",
          "text": [
            "First few rows of the DataFrame:\n",
            "                                                user  \\\n",
            "0  I'm so frustrated with my job. I can't stand m...   \n",
            "1  I had a huge argument with my roommate. I can'...   \n",
            "2  My partner and I had a heated argument last ni...   \n",
            "3  I got a low grade on my exam, and I'm furious ...   \n",
            "4  I'm angry about the current political situatio...   \n",
            "\n",
            "                                             chatbot  \n",
            "0  Work frustrations can be tough. Let's talk abo...  \n",
            "1  Roommate conflicts happen. Let's discuss confl...  \n",
            "2  Relationship conflicts can be challenging. Let...  \n",
            "3  Academic setbacks can be frustrating. Let's ex...  \n",
            "4  Political frustrations are common. Let's discu...  \n",
            "\n",
            "Last few rows of the DataFrame:\n",
            "                                                   user  \\\n",
            "3356  I discovered a hidden cavern with stunning cry...   \n",
            "3357  I received an unexpected visit from a childhoo...   \n",
            "3358  I spotted a rare species of orchid in a botani...   \n",
            "3359  I was surprised with a serenade from a street ...   \n",
            "3360  I discovered a secret beach cove while explori...   \n",
            "\n",
            "                                                chatbot  \n",
            "3356  Discovering a hidden cavern with stunning crys...  \n",
            "3357  An unexpected visit from a childhood friend wh...  \n",
            "3358  Spotting a rare species of orchid in a botanic...  \n",
            "3359  A surprise serenade from a street musician whi...  \n",
            "3360  Discovering a secret beach cove while explorin...  \n",
            "\n",
            "Missing values in the DataFrame:\n",
            "user       0\n",
            "chatbot    0\n",
            "dtype: int64\n",
            "\n",
            "Basic data summary:\n",
            "                                                     user  \\\n",
            "count                                                3361   \n",
            "unique                                               1755   \n",
            "top     I feel empathy for my classmate who's dealing ...   \n",
            "freq                                                   14   \n",
            "\n",
            "                                                  chatbot  \n",
            "count                                                3361  \n",
            "unique                                               1743  \n",
            "top     Trust is the foundation of strong relationship...  \n",
            "freq                                                   17  \n"
          ]
        },
        {
          "output_type": "display_data",
          "data": {
            "text/plain": [
              "<Figure size 800x600 with 1 Axes>"
            ],
            "image/png": "[encoded data removed]"
          },
          "metadata": {}
        }
      ],
      "source": [
        "# Import necessary libraries\n",
        "import pandas as pd\n",
        "import matplotlib.pyplot as plt\n",
        "import seaborn as sns\n",
        "\n",
        "# Load your data from a JSON file\n",
        "data = pd.read_json('/content/drive/MyDrive/user_bot_data/data.json')\n",
        "\n",
        "# Display the first few rows of the DataFrame\n",
        "print(\"First few rows of the DataFrame:\")\n",
        "print(data.head())\n",
        "\n",
        "# Display the last few rows of the DataFrame\n",
        "print(\"\\nLast few rows of the DataFrame:\")\n",
        "print(data.tail())\n",
        "\n",
        "# Check for missing values\n",
        "print(\"\\nMissing values in the DataFrame:\")\n",
        "print(data.isna().sum())\n",
        "\n",
        "# Basic data summary\n",
        "print(\"\\nBasic data summary:\")\n",
        "print(data.describe())\n",
        "\n",
        "#distribution of message lengths, allowing you to understand the range of message lengths and their frequency in your dataset\n",
        "plt.figure(figsize=(8, 6))\n",
        "sns.histplot(data=data, x='user', kde=True)\n",
        "plt.xlabel('User Message Length')\n",
        "plt.ylabel('Frequency')\n",
        "plt.title('Distribution of User Message Length')\n",
        "plt.show()\n"
      ]
    },
    {
      "cell_type": "code",
      "execution_count": null,
      "metadata": {
        "id": "lB1bC9JYLbIR"
      },
      "outputs": [],
      "source": [
        "import pandas as pd\n",
        "\n",
        "# Load your dataset into a Pandas DataFrame\n",
        "data = pd.read_json('/content/drive/MyDrive/sentemental_label_data/sentimental_emo.json')\n",
        "\n",
        "# Find specific numerical columns\n",
        "numerical_columns = data.select_dtypes(include=['number'])\n",
        "\n",
        "# Print the names of numerical columns\n",
        "print(\"Numerical Columns:\")\n",
        "print(numerical_columns.columns)\n"
      ]
    },
    {
      "cell_type": "code",
      "execution_count": null,
      "metadata": {
        "id": "f7KY_uLuMBVP",
        "colab": {
          "base_uri": "https://localhost:8080/"
        },
        "outputId": "caf2f105-5cec-4345-ab89-d7031176d4c9"
      },
      "outputs": [
        {
          "output_type": "stream",
          "name": "stderr",
          "text": [
            "[nltk_data] Downloading package punkt to /root/nltk_data...\n",
            "[nltk_data]   Unzipping tokenizers/punkt.zip.\n",
            "[nltk_data] Downloading package stopwords to /root/nltk_data...\n",
            "[nltk_data]   Unzipping corpora/stopwords.zip.\n"
          ]
        },
        {
          "output_type": "stream",
          "name": "stdout",
          "text": [
            "Before filtering:\n",
            "                                                text  label          topic  \\\n",
            "0  I'm so frustrated with my job. I can't stand m...  Anger           Work   \n",
            "1  I had a huge argument with my roommate. I can'...  Anger      Roommates   \n",
            "2  My partner and I had a heated argument last ni...  Anger  Relationships   \n",
            "3  I got a low grade on my exam, and I'm furious ...  Anger      Academics   \n",
            "4  I'm angry about the current political situatio...  Anger       Politics   \n",
            "\n",
            "          response_type user chatbot  \n",
            "0   Supportive response  NaN     NaN  \n",
            "1   Conflict resolution  NaN     NaN  \n",
            "2   Conflict resolution  NaN     NaN  \n",
            "3   Supportive response  NaN     NaN  \n",
            "4  Informative response  NaN     NaN  \n",
            "After filtering, tokenization, and preprocessing:\n",
            "User-Chatbot Interaction Data:\n",
            "                                         user_tokens  \\\n",
            "0  [I, 'm, so, frustrated, with, my, job, ., I, c...   \n",
            "1  [I, had, a, huge, argument, with, my, roommate...   \n",
            "2  [My, partner, and, I, had, a, heated, argument...   \n",
            "3  [I, got, a, low, grade, on, my, exam, ,, and, ...   \n",
            "4  [I, 'm, angry, about, the, current, political,...   \n",
            "\n",
            "                                      chatbot_tokens  \n",
            "0  [Work, frustrations, can, be, tough, ., Let, '...  \n",
            "1  [Roommate, conflicts, happen, ., Let, 's, disc...  \n",
            "2  [Relationship, conflicts, can, be, challenging...  \n",
            "3  [Academic, setbacks, can, be, frustrating, ., ...  \n",
            "4  [Political, frustrations, are, common, ., Let,...  \n",
            "\n",
            "Emotional and Sentimental Data:\n",
            "                                         text_tokens\n",
            "0  ['m, frustrated, job, ca, n't, stand, boss, an...\n",
            "1          [huge, argument, roommate, ca, n't, calm]\n",
            "2  [partner, heated, argument, last, night, 'm, s...\n",
            "3               [got, low, grade, exam, 'm, furious]\n",
            "4  ['m, angry, current, political, situation, 's,...\n"
          ]
        }
      ],
      "source": [
        "import pandas as pd\n",
        "import nltk\n",
        "import string  # Import the 'string' module\n",
        "from nltk.tokenize import word_tokenize\n",
        "\n",
        "# Download the 'punkt' tokenizer models and 'stopwords'\n",
        "nltk.download('punkt')\n",
        "nltk.download('stopwords')\n",
        "\n",
        "# Load user-chatbot interaction data\n",
        "interaction_data = pd.read_json('/content/drive/MyDrive/user_bot_data/data.json')\n",
        "\n",
        "# Tokenize user messages\n",
        "interaction_data['user_tokens'] = interaction_data['user'].apply(word_tokenize)\n",
        "\n",
        "# Tokenize chatbot responses\n",
        "interaction_data['chatbot_tokens'] = interaction_data['chatbot'].apply(word_tokenize)\n",
        "\n",
        "# Load emotional and sentimental data\n",
        "emotional_data = pd.read_json('/content/drive/MyDrive/user_bot_data/emotional_sentimental.json')\n",
        "\n",
        "# Check and filter non-string data in the 'text' column\n",
        "print(\"Before filtering:\")\n",
        "print(emotional_data.head())\n",
        "\n",
        "emotional_data = emotional_data[emotional_data['text'].apply(lambda x: isinstance(x, str))]\n",
        "\n",
        "# Tokenize text in emotional data\n",
        "emotional_data['text_tokens'] = emotional_data['text'].apply(word_tokenize)\n",
        "\n",
        "# Data Preprocessing Steps\n",
        "# Lowercasing\n",
        "emotional_data['text_tokens'] = emotional_data['text_tokens'].apply(lambda tokens: [token.lower() for token in tokens])\n",
        "\n",
        "# Punctuation Removal\n",
        "punctuation = string.punctuation\n",
        "emotional_data['text_tokens'] = emotional_data['text_tokens'].apply(lambda tokens: [token for token in tokens if token not in punctuation])\n",
        "\n",
        "# Stop Word Removal (optional)\n",
        "stop_words = set(nltk.corpus.stopwords.words('english'))\n",
        "emotional_data['text_tokens'] = emotional_data['text_tokens'].apply(lambda tokens: [token for token in tokens if token not in stop_words])\n",
        "\n",
        "\n",
        "# For reference, you can print the first few rows of each dataset with tokenized and preprocessed text:\n",
        "print(\"After filtering, tokenization, and preprocessing:\")\n",
        "print(\"User-Chatbot Interaction Data:\")\n",
        "print(interaction_data[['user_tokens', 'chatbot_tokens']].head())\n",
        "\n",
        "print(\"\\nEmotional and Sentimental Data:\")\n",
        "print(emotional_data[['text_tokens']].head())\n"
      ]
    },
    {
      "cell_type": "code",
      "execution_count": null,
      "metadata": {
        "id": "hsjpsTUsNMKT",
        "colab": {
          "base_uri": "https://localhost:8080/"
        },
        "outputId": "dc1b87bc-330d-4643-b937-753c35157670"
      },
      "outputs": [
        {
          "output_type": "stream",
          "name": "stdout",
          "text": [
            "\n",
            "Sentiment Scores:\n",
            "                                                text  compound_sentiment\n",
            "0  I'm so frustrated with my job. I can't stand m...             -0.5709\n",
            "1  I had a huge argument with my roommate. I can'...             -0.2874\n",
            "2  My partner and I had a heated argument last ni...             -0.3612\n",
            "3  I got a low grade on my exam, and I'm furious ...             -0.7003\n",
            "4  I'm angry about the current political situatio...             -0.5106\n"
          ]
        }
      ],
      "source": [
        "import pandas as pd\n",
        "from nltk.sentiment.vader import SentimentIntensityAnalyzer\n",
        "import nltk\n",
        "\n",
        "#  Emotion and Sentiment Dataset into a Pandas DataFrame\n",
        "data = pd.read_json('/content/drive/MyDrive/user_bot_data/emotional_sentimental.json')\n",
        "\n",
        "# Remove rows with NaN values in the 'text' column\n",
        "data = data.dropna(subset=['text'])\n",
        "\n",
        "# Initialize the VADER sentiment analyzer\n",
        "analyzer = SentimentIntensityAnalyzer()\n",
        "\n",
        "# Calculate sentiment scores\n",
        "data['sentiment_scores'] = data['text'].apply(lambda x: analyzer.polarity_scores(x))\n",
        "\n",
        "# Extract compound sentiment score\n",
        "data['compound_sentiment'] = data['sentiment_scores'].apply(lambda x: x['compound'])\n",
        "\n",
        "# Print the first few rows with sentiment scores\n",
        "print(\"\\nSentiment Scores:\")\n",
        "print(data[['text', 'compound_sentiment']].head())\n"
      ]
    },
    {
      "cell_type": "code",
      "execution_count": null,
      "metadata": {
        "id": "EvWSqPhr-wWA"
      },
      "outputs": [],
      "source": [
        "import pandas as pd\n",
        "from textblob import TextBlob\n",
        "\n",
        "# Load your dataset into a Pandas DataFrame\n",
        "data = pd.read_json('/content/drive/MyDrive/user_bot_data/data.json')\n",
        "\n",
        "# Function to get sentiment polarity\n",
        "def get_sentiment_polarity(text):\n",
        "    analysis = TextBlob(text)\n",
        "    return analysis.sentiment.polarity\n",
        "\n",
        "# Apply sentiment analysis to each row in your dataset\n",
        "data['sentiment_polarity'] = data['user'].apply(get_sentiment_polarity)\n",
        "\n",
        "\n"
      ]
    },
    {
      "cell_type": "code",
      "execution_count": null,
      "metadata": {
        "id": "6zU83U4D_Kfu",
        "colab": {
          "base_uri": "https://localhost:8080/",
          "height": 472
        },
        "outputId": "e85335e1-c874-41b5-c109-ec3004a7b603"
      },
      "outputs": [
        {
          "output_type": "display_data",
          "data": {
            "text/plain": [
              "<Figure size 640x480 with 1 Axes>"
            ],
            "image/png": "[encoded data removed]"
          },
          "metadata": {}
        }
      ],
      "source": [
        "import matplotlib.pyplot as plt\n",
        "\n",
        "# Create a histogram of sentiment scores\n",
        "plt.hist(data['sentiment_polarity'], bins=20, edgecolor='k')\n",
        "plt.xlabel('Sentiment Polarity')\n",
        "plt.ylabel('Frequency')\n",
        "plt.title('Distribution of Sentiment Polarity')\n",
        "plt.show()\n"
      ]
    },
    {
      "cell_type": "code",
      "execution_count": null,
      "metadata": {
        "id": "7eofvojExHyx",
        "colab": {
          "base_uri": "https://localhost:8080/"
        },
        "outputId": "59eb5ba5-204e-4dab-9596-7f983ca4a93d"
      },
      "outputs": [
        {
          "output_type": "stream",
          "name": "stderr",
          "text": [
            "[nltk_data] Downloading package stopwords to /root/nltk_data...\n",
            "[nltk_data]   Package stopwords is already up-to-date!\n"
          ]
        }
      ],
      "source": [
        "import string  #Text Preprocessing\n",
        "import nltk\n",
        "from nltk.tokenize import word_tokenize\n",
        "\n",
        "# Sample text data\n",
        "user_messages = data['user']\n",
        "\n",
        "# Initialize the NLTK stopwords list\n",
        "nltk.download('stopwords')\n",
        "stop_words = set(nltk.corpus.stopwords.words('english'))\n",
        "\n",
        "# Initialize empty lists to store preprocessed text\n",
        "cleaned_user_messages = []\n",
        "\n",
        "# Loop through user messages for preprocessing\n",
        "for message in user_messages:\n",
        "    # Lowercase the text\n",
        "    message = message.lower()\n",
        "\n",
        "    # Remove punctuation\n",
        "    message = message.translate(str.maketrans('', '', string.punctuation))\n",
        "\n",
        "    # Tokenization (optional)\n",
        "    tokens = word_tokenize(message)\n",
        "\n",
        "    # Remove stopwords\n",
        "    filtered_tokens = [token for token in tokens if token not in stop_words]\n",
        "\n",
        "    # Join tokens back into a clean message\n",
        "    cleaned_message = ' '.join(filtered_tokens)\n",
        "\n",
        "    cleaned_user_messages.append(cleaned_message)\n",
        "\n",
        "# Replace the 'user' column with the cleaned text\n",
        "data['user'] = cleaned_user_messages\n"
      ]
    },
    {
      "cell_type": "code",
      "execution_count": null,
      "metadata": {
        "id": "65g81AtNNtDW"
      },
      "outputs": [],
      "source": [
        "#======"
      ]
    },
    {
      "cell_type": "code",
      "execution_count": null,
      "metadata": {
        "id": "mUtKxIo803lq"
      },
      "outputs": [],
      "source": [
        "\n",
        "#used for various natural language processing tasks, such as topic modeling with Latent Dirichlet Allocation (LDA) or\n",
        "# for creating numerical representations of text data for machine learning purposes\n",
        "import pandas as pd\n",
        "from gensim import corpora\n",
        "from nltk.tokenize import word_tokenize\n",
        "\n",
        "# Tokenize the 'user' column\n",
        "data['user_tokens'] = data['user'].apply(word_tokenize)\n",
        "\n",
        "# Create a dictionary from the tokenized user messages\n",
        "dictionary = corpora.Dictionary(data['user_tokens']) #creates a dictionary from the tokenized user messages\n",
        "                                                     #dictionary contains a mapping of words to unique numerical IDs\n",
        "\n",
        "# Create a corpus\n",
        "corpus = [dictionary.doc2bow(tokens) for tokens in data['user_tokens']]\n"
      ]
    },
    {
      "cell_type": "code",
      "execution_count": null,
      "metadata": {
        "colab": {
          "base_uri": "https://localhost:8080/"
        },
        "id": "FHpj21xc0eKc",
        "outputId": "8964fcfe-1fa4-4816-93f9-41e9adfb0621"
      },
      "outputs": [
        {
          "name": "stdout",
          "output_type": "stream",
          "text": [
            "Index(['user', 'chatbot', 'sentiment_polarity', 'user_tokens'], dtype='object')\n"
          ]
        }
      ],
      "source": [
        "# List the column names in your DataFrame\n",
        "column_names = data.columns\n",
        "print(column_names)\n"
      ]
    },
    {
      "cell_type": "code",
      "execution_count": null,
      "metadata": {
        "id": "LBf3gC9mzXXZ",
        "colab": {
          "base_uri": "https://localhost:8080/"
        },
        "outputId": "42ae1ac7-454d-4911-e5cf-5428562a73f2"
      },
      "outputs": [
        {
          "output_type": "stream",
          "name": "stdout",
          "text": [
            "(0, '0.035*\"want\" + 0.030*\"im\" + 0.023*\"friend\" + 0.016*\"feel\" + 0.014*\"compassion\"')\n",
            "(1, '0.080*\"im\" + 0.018*\"guilt\" + 0.016*\"cant\" + 0.014*\"believe\" + 0.014*\"calmly\"')\n",
            "(2, '0.035*\"im\" + 0.032*\"consuming\" + 0.030*\"find\" + 0.026*\"regret\" + 0.021*\"calmness\"')\n",
            "(3, '0.067*\"im\" + 0.057*\"regret\" + 0.026*\"overwhelming\" + 0.025*\"wish\" + 0.023*\"hadnt\"')\n",
            "(4, '0.095*\"shame\" + 0.089*\"unbearable\" + 0.038*\"feel\" + 0.024*\"ashamed\" + 0.017*\"helping\"')\n"
          ]
        }
      ],
      "source": [
        "from gensim import corpora, models #Advanced NLP Analysis\n",
        "#genism ->advanced natural language processing (NLP) analysis.\n",
        "# Assuming you have 'user_tokens' as tokenized user messages\n",
        "dictionary = corpora.Dictionary(data['user_tokens']) #\n",
        "corpus = [dictionary.doc2bow(tokens) for tokens in data['user_tokens']]\n",
        "\n",
        "# Perform LDA ->Latent Dirichlet Allocation (LDA)\n",
        "#  corpus: The bag-of-words corpus of tokenized user messages.\n",
        "#  num_topics: The number of topics to discover in the data (in this case, 5 topics).\n",
        "## id2word: The dictionary mapping word IDs to words.\n",
        "#  passes: The number of passes through the entire corpus for training\n",
        "lda_model = models.LdaModel(corpus, num_topics=5, id2word=dictionary, passes=15)\n",
        "\n",
        "topics = lda_model.print_topics(num_words=5)\n",
        "\n",
        "for topic in topics:\n",
        "   print(topic)\n"
      ]
    },
    {
      "cell_type": "code",
      "execution_count": null,
      "metadata": {
        "id": "3hVNkD1m2GaR",
        "colab": {
          "base_uri": "https://localhost:8080/"
        },
        "outputId": "edfb73c1-6d96-4169-91aa-e618f98e1824"
      },
      "outputs": [
        {
          "output_type": "stream",
          "name": "stdout",
          "text": [
            "0      -0.388889\n",
            "1       0.600000\n",
            "2       0.500000\n",
            "3      -0.200000\n",
            "4      -0.150000\n",
            "          ...   \n",
            "3356    0.508333\n",
            "3357    0.100000\n",
            "3358    0.366667\n",
            "3359    0.050000\n",
            "3360    0.066667\n",
            "Name: chatbot_sentiment_polarity, Length: 3361, dtype: float64\n"
          ]
        }
      ],
      "source": [
        "#used to evaluate the sentiment polarity of chatbot responses using the TextBlob library.\n",
        "\n",
        "from textblob import TextBlob #Chatbot Response Evaluation\n",
        "\n",
        "#  'chatbot_responses' as a list of chatbot responses\n",
        "chatbot_responses = data['chatbot']\n",
        "\n",
        "# Function to get sentiment polarity\n",
        "def get_sentiment_polarity(text):  #takes a text input as a parameter and uses TextBlob to analyze the sentiment polarity of the text.\n",
        "    analysis = TextBlob(text)       #to analyze the sentiment polarity of the text.\n",
        "    return analysis.sentiment.polarity\n",
        "\n",
        "# Apply sentiment analysis to each chatbot response\n",
        "data['chatbot_sentiment_polarity'] = [get_sentiment_polarity(response) for response in chatbot_responses]\n",
        "\n",
        "print(data['chatbot_sentiment_polarity'])\n",
        "\n"
      ]
    },
    {
      "cell_type": "code",
      "execution_count": null,
      "metadata": {
        "id": "boJGW75V7RKq",
        "colab": {
          "base_uri": "https://localhost:8080/"
        },
        "outputId": "0f80495b-a765-4ee0-c001-f68ec1b89fa0"
      },
      "outputs": [
        {
          "output_type": "stream",
          "name": "stdout",
          "text": [
            "Sample User Messages:\n",
            "0    I'm so frustrated with my job. I can't stand m...\n",
            "1    I had a huge argument with my roommate. I can'...\n",
            "2    My partner and I had a heated argument last ni...\n",
            "3    I got a low grade on my exam, and I'm furious ...\n",
            "4    I'm angry about the current political situatio...\n",
            "Name: text, dtype: object\n",
            "\n",
            "Sample Sentiment Labels:\n",
            "0    Anger\n",
            "1    Anger\n",
            "2    Anger\n",
            "3    Anger\n",
            "4    Anger\n",
            "Name: label, dtype: object\n"
          ]
        }
      ],
      "source": [
        "import pandas as pd\n",
        "\n",
        "\n",
        "data = pd.read_json('/content/drive/MyDrive/user_bot_data/emotional_sentimental.json')\n",
        "\n",
        "\n",
        "features = data['text']  # Text messages\n",
        "labels = data['label']  # Sentiment labels (i.e positive, negative, neutral)\n",
        "\n",
        "# Verify the data by printing the first few rows\n",
        "print(\"Sample User Messages:\")\n",
        "print(features.head())\n",
        "\n",
        "print(\"\\nSample Sentiment Labels:\")\n",
        "print(labels.head())\n"
      ]
    },
    {
      "cell_type": "code",
      "execution_count": null,
      "metadata": {
        "id": "3oXPJ2dz4k6c",
        "colab": {
          "base_uri": "https://localhost:8080/",
          "height": 1000
        },
        "outputId": "ae1fa15b-081a-4f2e-e480-013aca2488d2"
      },
      "outputs": [
        {
          "output_type": "stream",
          "name": "stdout",
          "text": [
            "Data Information:\n",
            "<class 'pandas.core.frame.DataFrame'>\n",
            "RangeIndex: 2612 entries, 0 to 2611\n",
            "Data columns (total 6 columns):\n",
            " #   Column         Non-Null Count  Dtype \n",
            "---  ------         --------------  ----- \n",
            " 0   text           2540 non-null   object\n",
            " 1   label          2612 non-null   object\n",
            " 2   topic          2612 non-null   object\n",
            " 3   response_type  2612 non-null   object\n",
            " 4   user           72 non-null     object\n",
            " 5   chatbot        72 non-null     object\n",
            "dtypes: object(6)\n",
            "memory usage: 122.6+ KB\n",
            "None\n",
            "\n",
            "First Few Rows:\n",
            "                                                text  label          topic  \\\n",
            "0  I'm so frustrated with my job. I can't stand m...  Anger           Work   \n",
            "1  I had a huge argument with my roommate. I can'...  Anger      Roommates   \n",
            "2  My partner and I had a heated argument last ni...  Anger  Relationships   \n",
            "3  I got a low grade on my exam, and I'm furious ...  Anger      Academics   \n",
            "4  I'm angry about the current political situatio...  Anger       Politics   \n",
            "\n",
            "          response_type user chatbot  \n",
            "0   Supportive response  NaN     NaN  \n",
            "1   Conflict resolution  NaN     NaN  \n",
            "2   Conflict resolution  NaN     NaN  \n",
            "3   Supportive response  NaN     NaN  \n",
            "4  Informative response  NaN     NaN  \n",
            "\n",
            "Last Few Rows:\n",
            "                                                   text    label  \\\n",
            "2607  Discovering a hair in my restaurant meal was o...  Disgust   \n",
            "2608  The stench of a public restroom with unflushed...  Disgust   \n",
            "2609  Witnessing someone carelessly litter in a beau...  Disgust   \n",
            "2610  Hearing the crunching sound of someone biting ...  Disgust   \n",
            "2611  Accidentally putting my hand on a sticky and g...  Disgust   \n",
            "\n",
            "                               topic  \\\n",
            "2607         Hair in restaurant meal   \n",
            "2608  Unflushed toilet restroom odor   \n",
            "2609           Littering in the park   \n",
            "2610      Nail-biting in the library   \n",
            "2611       Sticky and greasy surface   \n",
            "\n",
            "                                 response_type user chatbot  \n",
            "2607                Appetite-ruining discovery  NaN     NaN  \n",
            "2608                   Sickening restroom odor  NaN     NaN  \n",
            "2609  Infuriating and environmentally damaging  NaN     NaN  \n",
            "2610            Cringe-inducing and disturbing  NaN     NaN  \n",
            "2611             Feeling dirty and grossed out  NaN     NaN  \n",
            "\n",
            "Missing Values:\n",
            "text               72\n",
            "label               0\n",
            "topic               0\n",
            "response_type       0\n",
            "user             2540\n",
            "chatbot          2540\n",
            "dtype: int64\n",
            "\n",
            "Numerical Statistics:\n",
            "                                                     text  label       topic  \\\n",
            "count                                                2540   2612        2612   \n",
            "unique                                               2373     22        1517   \n",
            "top     I feel guilty for not donating to a charity wh...  Guilt  Friendship   \n",
            "freq                                                    5    261          66   \n",
            "\n",
            "       response_type                                               user  \\\n",
            "count           2612                                                 72   \n",
            "unique           832                                                 72   \n",
            "top             Envy  I just aced my final exams! I feel content and...   \n",
            "freq             185                                                  1   \n",
            "\n",
            "                                                  chatbot  \n",
            "count                                                  72  \n",
            "unique                                                 72  \n",
            "top     Congratulations on your success! It's natural ...  \n",
            "freq                                                    1  \n",
            "\n",
            "Average Message Length:\n",
            "85.59647779479326\n"
          ]
        },
        {
          "output_type": "stream",
          "name": "stderr",
          "text": [
            "[nltk_data] Downloading package vader_lexicon to /root/nltk_data...\n",
            "[nltk_data]   Package vader_lexicon is already up-to-date!\n"
          ]
        },
        {
          "output_type": "stream",
          "name": "stdout",
          "text": [
            "\n",
            "Sentiment Scores:\n",
            "                                                text  compound_sentiment\n",
            "0  I'm so frustrated with my job. I can't stand m...             -0.5709\n",
            "1  I had a huge argument with my roommate. I can'...             -0.2874\n",
            "2  My partner and I had a heated argument last ni...             -0.3612\n",
            "3  I got a low grade on my exam, and I'm furious ...             -0.7003\n",
            "4  I'm angry about the current political situatio...             -0.5106\n"
          ]
        },
        {
          "output_type": "display_data",
          "data": {
            "text/plain": [
              "<Figure size 1000x800 with 1 Axes>"
            ],
            "image/png": "[encoded data removed]"
          },
          "metadata": {}
        }
      ],
      "source": [
        "\n",
        "  #analyzing and visualizing a dataset\n",
        "\n",
        "import pandas as pd\n",
        "import matplotlib.pyplot as plt\n",
        "from nltk.sentiment.vader import SentimentIntensityAnalyzer\n",
        "import nltk\n",
        "\n",
        "#  Emotion and Sentiment Dataset into a Pandas DataFrame\n",
        "data = pd.read_json('/content/drive/MyDrive/user_bot_data/emotional_sentimental.json')\n",
        "\n",
        "# Display basic information about the data\n",
        "print(\"Data Information:\")\n",
        "print(data.info())\n",
        "\n",
        "# View the first few rows of the data\n",
        "print(\"\\nFirst Few Rows:\")\n",
        "print(data.head())\n",
        "\n",
        "# View the last few rows of the data\n",
        "print(\"\\nLast Few Rows:\")\n",
        "print(data.tail())\n",
        "\n",
        "# Check for missing values\n",
        "missing_values = data.isnull().sum()\n",
        "print(\"\\nMissing Values:\")\n",
        "print(missing_values)\n",
        "\n",
        "# Calculate basic statistics for numerical columns\n",
        "numerical_stats = data.describe()\n",
        "print(\"\\nNumerical Statistics:\")\n",
        "print(numerical_stats)\n",
        "\n",
        "# Calculate the average message length for the 'text' column\n",
        "data['message_length'] = data['text'].apply(lambda x: len(str(x)))\n",
        "average_message_length = data['message_length'].mean()\n",
        "print(\"\\nAverage Message Length:\")\n",
        "print(average_message_length)\n",
        "\n",
        "# Use VADER sentiment analysis tool from NLTK to analyze the sentiment of 'text' column\n",
        "nltk.download('vader_lexicon')\n",
        "\n",
        "# Initialize the VADER sentiment analyzer\n",
        "analyzer = SentimentIntensityAnalyzer()\n",
        "\n",
        "# Calculate sentiment scores for non-null and string entries\n",
        "data['sentiment_scores'] = data['text'].apply(lambda x: analyzer.polarity_scores(x) if isinstance(x, str) else None)\n",
        "\n",
        "# Extract compound sentiment score for non-null entries\n",
        "data['compound_sentiment'] = data['sentiment_scores'].apply(lambda x: x['compound'] if x is not None else None)\n",
        "\n",
        "# Print the first few rows with sentiment scores\n",
        "print(\"\\nSentiment Scores:\")\n",
        "print(data[['text', 'compound_sentiment']].head())\n",
        "\n",
        "# Data visualization (e.g., histogram) for a specific numerical column\n",
        "data['compound_sentiment'].hist(figsize=(10, 8))\n",
        "plt.xlabel('Compound Sentiment Score')\n",
        "plt.ylabel('Frequency')\n",
        "plt.title('Distribution of Compound Sentiment Scores')\n",
        "plt.show()\n"
      ]
    },
    {
      "cell_type": "code",
      "execution_count": null,
      "metadata": {
        "id": "r--BAaUXMbsm"
      },
      "outputs": [],
      "source": [
        "import pandas as pd\n",
        "\n",
        "# Load the dataset as a DataFrame\n",
        "data = pd.read_json('/content/drive/MyDrive/user_bot_data/help.json')\n",
        "\n",
        "# Define a function to find a helpline\n",
        "def find_helpline(user_request):\n",
        "    # Search the dataset for relevant entries\n",
        "    helpline_data = data[data['services'].apply(lambda services: 'helpline' in [service.lower() for service in services])]\n",
        "\n",
        "    # Check if there are any helplines in the dataset\n",
        "    if not helpline_data.empty:\n",
        "        # You can provide information about the first helpline in the dataset\n",
        "        helpline_info = helpline_data.iloc[0]\n",
        "\n",
        "        # Extract relevant information\n",
        "        helpline_name = helpline_info['name']\n",
        "        helpline_location = helpline_info['location']\n",
        "        helpline_contact = helpline_info['contact']\n",
        "        helpline_website = helpline_info['website']\n",
        "\n",
        "        response = f\"Here's a helpline for you: {helpline_name}\\nLocation: {helpline_location}\\nContact: {helpline_contact}\\nWebsite: {helpline_website}\"\n",
        "    else:\n",
        "        response = \"I'm sorry, but I couldn't find a helpline in the dataset.\"\n",
        "\n",
        "    return response\n"
      ]
    },
    {
      "cell_type": "code",
      "execution_count": null,
      "metadata": {
        "colab": {
          "base_uri": "https://localhost:8080/"
        },
        "id": "DpF3AUvRHZ_Y",
        "outputId": "31926045-f2f9-4d92-c32a-84081610a2cc"
      },
      "outputs": [
        {
          "output_type": "stream",
          "name": "stderr",
          "text": [
            "[nltk_data] Downloading package punkt to /root/nltk_data...\n",
            "[nltk_data]   Package punkt is already up-to-date!\n"
          ]
        },
        {
          "output_type": "execute_result",
          "data": {
            "text/plain": [
              "True"
            ]
          },
          "metadata": {},
          "execution_count": 26
        }
      ],
      "source": [
        "import nltk\n",
        "nltk.download('punkt')\n"
      ]
    },
    {
      "cell_type": "code",
      "execution_count": null,
      "metadata": {
        "id": "GVQ2DAlH4mF4"
      },
      "outputs": [],
      "source": [
        "\n",
        "#perform Word2Vec word embedding on user and chatbot sentences from a JSON dataset\n",
        "# text into numerical vectors.\n",
        "import json\n",
        "from gensim.models import Word2Vec\n",
        "from nltk.tokenize import word_tokenize\n",
        "\n",
        "\n",
        "with open('/content/drive/MyDrive/user_bot_data/data.json', 'r') as file:\n",
        "    data = json.load(file)\n",
        "\n",
        "# Extract user and chatbot sentences\n",
        "user_sentences = [item['user'] for item in data]\n",
        "chatbot_sentences = [item['chatbot'] for item in data]\n",
        "\n",
        "# Tokenize the sentences\n",
        "user_tokenized_data = [word_tokenize(sentence.lower()) for sentence in user_sentences]\n",
        "chatbot_tokenized_data = [word_tokenize(sentence.lower()) for sentence in chatbot_sentences]\n",
        "\n",
        "# Train a Word2Vec model on user and chatbot data\n",
        "user_model = Word2Vec(user_tokenized_data, vector_size=100, window=5, min_count=1, sg=0)\n",
        "chatbot_model = Word2Vec(chatbot_tokenized_data, vector_size=100, window=5, min_count=1, sg=0)\n",
        "\n",
        "\n"
      ]
    },
    {
      "cell_type": "code",
      "execution_count": null,
      "metadata": {
        "id": "5w5uWawfFh9G",
        "colab": {
          "base_uri": "https://localhost:8080/"
        },
        "outputId": "1bb58ba1-e10f-4db8-dbed-7bb516c4ae1a"
      },
      "outputs": [
        {
          "output_type": "stream",
          "name": "stdout",
          "text": [
            "Word2Vec models have been trained and loaded.\n"
          ]
        }
      ],
      "source": [
        "# Check if user_model and chatbot_model exist\n",
        "if 'user_model' in globals() and 'chatbot_model' in globals():\n",
        "    print(\"Word2Vec models have been trained and loaded.\")\n",
        "else:\n",
        "    print(\"Word2Vec models are not available. You need to train and load them first.\")\n"
      ]
    },
    {
      "cell_type": "code",
      "execution_count": null,
      "metadata": {
        "id": "NGKAZxGJItpB"
      },
      "outputs": [],
      "source": [
        "\n",
        "\n",
        "# Function to convert a sentence to a vector using the Word2Vec model\n",
        "def sentence_to_vector(model, sentence):\n",
        "    words = word_tokenize(sentence.lower())\n",
        "    vector = [model.wv[word] for word in words if word in model.wv]\n",
        "    if vector:\n",
        "        # Calculate the mean of word vectors to get a sentence vector\n",
        "        sentence_vector = sum(vector) / len(vector)\n",
        "        return sentence_vector\n",
        "    else:\n",
        "        # If no words in the sentence are in the model's vocabulary, return None\n",
        "        return None\n",
        "\n",
        "# Example usage:\n",
        "user_sentence = \"I'm feeling overwhelmed by the upcoming exams and the pressure to perform well.\"\n",
        "chatbot_sentence = \"Exam stress is common. Let's discuss study techniques and stress management.\"\n",
        "\n",
        "user_vector = sentence_to_vector(user_model, user_sentence)\n",
        "chatbot_vector = sentence_to_vector(chatbot_model, chatbot_sentence)\n",
        "\n",
        "if user_vector is not None and chatbot_vector is not None:\n",
        "\n",
        "    pass\n",
        "else:\n",
        "\n",
        "    print(\"Some words in the sentence are not in the model's vocabulary.\")\n"
      ]
    },
    {
      "cell_type": "code",
      "execution_count": null,
      "metadata": {
        "colab": {
          "base_uri": "https://localhost:8080/"
        },
        "id": "bNdaWVIhKQtN",
        "outputId": "523a9ea1-053b-4a10-a1b2-c4f3b124ad85"
      },
      "outputs": [
        {
          "output_type": "stream",
          "name": "stdout",
          "text": [
            "Cosine Similarity: 0.36412475\n"
          ]
        }
      ],
      "source": [
        "from sklearn.metrics.pairwise import cosine_similarity\n",
        "\n",
        "\n",
        "\n",
        "# Calculate the cosine similarity between user and chatbot sentences\n",
        "similarity = cosine_similarity([user_vector], [chatbot_vector])\n",
        "\n",
        "# similarity is a value between -1 and 1, where higher values indicate greater similarity\n",
        "print(\"Cosine Similarity:\", similarity[0][0]) # prints the computed cosine similarity\n"
      ]
    },
    {
      "cell_type": "code",
      "execution_count": null,
      "metadata": {
        "id": "BJa5lzlPUVmM"
      },
      "outputs": [],
      "source": [
        "from sklearn.feature_extraction.text import TfidfVectorizer\n",
        "\n",
        "# Create a TfidfVectorizer\n",
        "tfidf_vectorizer = TfidfVectorizer()\n",
        "\n",
        "# Fit and transform the user sentences\n",
        "user_sentences_vectors = tfidf_vectorizer.fit_transform(user_sentences)#converts the user sentences into TF-IDF vectors\n",
        "\n",
        "# Transform the user input\n",
        "user_input_vector = tfidf_vectorizer.transform([user_input])\n"
      ]
    },
    {
      "cell_type": "code",
      "execution_count": null,
      "metadata": {
        "colab": {
          "base_uri": "https://localhost:8080/"
        },
        "id": "BOeiIhFfQCVE",
        "outputId": "1c852b0b-de8e-4786-e58c-a2b564ac1453"
      },
      "outputs": [
        {
          "output_type": "stream",
          "name": "stdout",
          "text": [
            "User input: I'm stressed about my exams.\n",
            "Chatbot response: It's understandable to feel anxious about exams. Let's discuss some study strategies to help you prepare.\n"
          ]
        }
      ],
      "source": [
        "import json\n",
        "from sklearn.metrics.pairwise import cosine_similarity\n",
        "from sklearn.feature_extraction.text import TfidfVectorizer\n",
        "\n",
        "# Load the data from the JSON file\n",
        "with open('/content/drive/MyDrive/user_bot_data/data.json', 'r') as file:\n",
        "    data = json.load(file)\n",
        "\n",
        "# Extract user sentences and chatbot responses from the loaded data\n",
        "user_sentences = [item['user'] for item in data]\n",
        "chatbot_responses = [item['chatbot'] for item in data]\n",
        "\n",
        "# Define a function to vectorize text using TF-IDF\n",
        "def vectorize(text_list):\n",
        "    tfidf_vectorizer = TfidfVectorizer()\n",
        "    text_vectors = tfidf_vectorizer.fit_transform(text_list)\n",
        "    return text_vectors, tfidf_vectorizer\n",
        "\n",
        "# User input\n",
        "user_input = \"I'm stressed about my exams.\"\n",
        "\n",
        "# Vectorize user input and user sentences using the same vectorizer\n",
        "user_sentences_vectors, tfidf_vectorizer = vectorize(user_sentences)\n",
        "user_input_vector = tfidf_vectorizer.transform([user_input])\n",
        "\n",
        "# Initialize variables to keep track of the most similar response and its similarity score\n",
        "most_similar_response = \"\"\n",
        "max_similarity = -1  # Initialize with a negative value\n",
        "\n",
        "# Calculate the cosine similarity between the user input vector and each chatbot response vector\n",
        "for i in range(len(user_sentences)):\n",
        "    similarity = cosine_similarity(user_input_vector, user_sentences_vectors[i])[0][0]\n",
        "    if similarity > max_similarity:\n",
        "        max_similarity = similarity\n",
        "        most_similar_response = chatbot_responses[i]\n",
        "\n",
        "# Provide the most similar response to the user\n",
        "print(\"User input:\", user_input)\n",
        "print(\"Chatbot response:\", most_similar_response)\n"
      ]
    },
    {
      "cell_type": "code",
      "execution_count": null,
      "metadata": {
        "colab": {
          "base_uri": "https://localhost:8080/"
        },
        "id": "yhFNhd-V8emw",
        "outputId": "03f91a60-c127-4c29-f9ed-09311ec31ee8"
      },
      "outputs": [
        {
          "output_type": "stream",
          "name": "stdout",
          "text": [
            "User input: I'm stressed about my exams.\n",
            "Chatbot response: It's understandable to feel anxious about exams. Let's discuss some study strategies to help you prepare.\n"
          ]
        }
      ],
      "source": [
        "\n",
        "def get_most_similar_response(user_input):\n",
        "    user_input_vector = tfidf_vectorizer.transform([user_input])\n",
        "\n",
        "    max_similarity = -1  # Initialize with a negative value\n",
        "    most_similar_response = \"\"\n",
        "\n",
        "    for i in range(len(user_sentences)):\n",
        "        similarity = cosine_similarity(user_input_vector, user_sentences_vectors[i])[0][0]\n",
        "        if similarity > max_similarity:\n",
        "            max_similarity = similarity\n",
        "            most_similar_response = chatbot_responses[i]\n",
        "\n",
        "    return most_similar_response\n",
        "\n",
        "# Example user input\n",
        "user_input = \"I'm stressed about my exams.\"\n",
        "chatbot_response = get_most_similar_response(user_input)\n",
        "print(\"User input:\", user_input)\n",
        "print(\"Chatbot response:\", chatbot_response)\n"
      ]
    },
    {
      "cell_type": "code",
      "execution_count": null,
      "metadata": {
        "colab": {
          "base_uri": "https://localhost:8080/"
        },
        "id": "yIXs64VXNFSM",
        "outputId": "39d6b44a-05c6-42a9-aaa4-fc555740c6ab"
      },
      "outputs": [
        {
          "output_type": "stream",
          "name": "stdout",
          "text": [
            "Chatbot: Hello! How can I assist you today? (Type 'exit' to end the conversation)\n",
            "User: It's been a tough day\n",
            "Chatbot: Friendship conflicts can be hurtful. Let's discuss addressing this issue and finding resolution.\n",
            "User: Can you recommend a good book to read\n",
            "Chatbot: Engaging books can transport readers to magical worlds and leave them in awe of the storytelling.\n",
            "User: I had a huge argument with my roommate\n",
            "Chatbot: Roommate conflicts happen. Let's discuss conflict resolution and effective communication.\n",
            "User: I got a low grade on my exam\n",
            "Chatbot: Academic setbacks can be frustrating. Let's explore study strategies and self-compassion.\n",
            "User: I'm angry with myself for not being more assertive\n",
            "Chatbot: Assertiveness is important in the workplace. Let's explore ways to assert yourself confidently.\n",
            "User: I'm angry with myself for not maintaining a healthy lifestyle\n",
            "Chatbot: Healthy living can be a struggle. Let's explore strategies for maintaining a healthier lifestyle.\n",
            "User: exit\n",
            "Chatbot: Goodbye!\n"
          ]
        }
      ],
      "source": [
        "# Import necessary libraries\n",
        "from sklearn.metrics.pairwise import cosine_similarity\n",
        "from sklearn.feature_extraction.text import TfidfVectorizer\n",
        "\n",
        "# Define the function to get the most similar response\n",
        "def get_most_similar_response(user_input):\n",
        "    user_input_vector = tfidf_vectorizer.transform([user_input])\n",
        "\n",
        "    max_similarity = -1  # Initialize with a negative value\n",
        "    most_similar_response = \"\"\n",
        "\n",
        "    for i in range(len(user_sentences)):\n",
        "        similarity = cosine_similarity(user_input_vector, user_sentences_vectors[i])[0][0]\n",
        "        if similarity > max_similarity:\n",
        "            max_similarity = similarity\n",
        "            most_similar_response = chatbot_responses[i]\n",
        "\n",
        "    return most_similar_response\n",
        "\n",
        "# Define a function to find a helpline\n",
        "def find_helpline(user_request):\n",
        "    # Search the dataset for relevant entries\n",
        "    helpline_data = data[data['services'].apply(lambda services: 'Helpline' in services)]\n",
        "\n",
        "    # Check if there are any helplines in the dataset\n",
        "    if not helpline_data.empty:\n",
        "        # You can provide information about the first helpline in the dataset\n",
        "        helpline_info = helpline_data.iloc[0]\n",
        "\n",
        "        # Extract relevant information\n",
        "        helpline_name = helpline_info['name']\n",
        "        helpline_location = helpline_info['location']\n",
        "        helpline_contact = helpline_info['contact']\n",
        "        helpline_website = helpline_info['website']\n",
        "\n",
        "        response = f\"Here's a helpline for you: {helpline_name}\\nLocation: {helpline_location}\\nContact: {helpline_contact}\\nWebsite: {helpline_website}\"\n",
        "    else:\n",
        "        response = \"I'm sorry, but I couldn't find a helpline in the dataset.\"\n",
        "\n",
        "    return response\n",
        "\n",
        "# Create a TF-IDF vectorizer and fit it to user sentences\n",
        "tfidf_vectorizer = TfidfVectorizer()\n",
        "user_sentences_vectors = tfidf_vectorizer.fit_transform(user_sentences)\n",
        "\n",
        "# Start the chatbot interaction\n",
        "print(\"Chatbot: Hello! How can I assist you today? (Type 'exit' to end the conversation)\")\n",
        "\n",
        "while True:\n",
        "    # Receive user input\n",
        "    user_input = input(\"User: \")\n",
        "\n",
        "    if user_input.lower() == 'exit':\n",
        "        print(\"Chatbot: Goodbye!\")\n",
        "        break\n",
        "\n",
        "    if \"helpline\" in user_input.lower():\n",
        "        # User asked for a helpline\n",
        "        helpline_response = find_helpline(user_input)\n",
        "        print(\"Chatbot:\", helpline_response)\n",
        "    else:\n",
        "        # Get the most similar chatbot response\n",
        "        chatbot_response = get_most_similar_response(user_input)\n",
        "        print(\"Chatbot:\", chatbot_response)\n",
        "\n",
        "# End the chatbot interaction\n"
      ]
    },
    {
      "cell_type": "code",
      "source": [
        "# Import necessary libraries\n",
        "from dash import Dash, dcc, html, Input, Output, State\n",
        "from dash.dependencies import Input, Output, State\n",
        "from sklearn.metrics.pairwise import cosine_similarity\n",
        "from sklearn.feature_extraction.text import TfidfVectorizer\n",
        "\n",
        "# Function to get the most similar response\n",
        "def get_most_similar_response(user_input):\n",
        "    user_input_vector = tfidf_vectorizer.transform([user_input])\n",
        "\n",
        "    max_similarity = -1  # Initialize with a negative value\n",
        "    most_similar_response = \"\"\n",
        "\n",
        "    for i in range(len(user_sentences)):\n",
        "        similarity = cosine_similarity(user_input_vector, user_sentences_vectors[i])[0][0]\n",
        "        if similarity > max_similarity:\n",
        "            max_similarity = similarity\n",
        "            most_similar_response = chatbot_responses[i]\n",
        "\n",
        "    return most_similar_response\n",
        "\n",
        "# Function to find a helpline\n",
        "def find_helpline(user_request):\n",
        "    helpline_data = data[data['services'].apply(lambda services: 'Helpline' in services)]\n",
        "\n",
        "    if not helpline_data.empty:\n",
        "        helpline_info = helpline_data.iloc[0]\n",
        "        helpline_name = helpline_info['name']\n",
        "        helpline_location = helpline_info['location']\n",
        "        helpline_contact = helpline_info['contact']\n",
        "        helpline_website = helpline_info['website']\n",
        "\n",
        "        response = f\"Here's a helpline for you: {helpline_name}\\nLocation: {helpline_location}\\nContact: {helpline_contact}\\nWebsite: {helpline_website}\"\n",
        "    else:\n",
        "        response = \"I'm sorry, but I couldn't find a helpline in the dataset.\"\n",
        "\n",
        "    return response\n",
        "\n",
        "# Create a TF-IDF vectorizer and fit it to user sentences\n",
        "tfidf_vectorizer = TfidfVectorizer()\n",
        "user_sentences_vectors = tfidf_vectorizer.fit_transform(user_sentences)\n",
        "\n",
        "# Create a Dash web application\n",
        "app = Dash(__name__)\n",
        "\n",
        "# Define the layout of the web application with an improved interface\n",
        "app.layout = html.Div([\n",
        "    html.Div([\n",
        "        dcc.Store(id='chat-store', storage_type='memory'),\n",
        "        dcc.Textarea(id='chat-history', value='', readOnly=True, style={'width': '100%', 'height': '300px'}),\n",
        "        dcc.Input(id='user-input', type='text', value='', placeholder='Type your message...', style={'width': '80%'}),\n",
        "        html.Button('Send', id='send-button', n_clicks=0, style={'width': '18%', 'margin-left': '2%'}),\n",
        "    ], style={'width': '80%', 'margin': 'auto', 'padding': '20px', 'border': '1px solid #ccc', 'border-radius': '10px'}),\n",
        "\n",
        "    # Add a section for images and loading indicators with improved styling\n",
        "    html.Div([\n",
        "        html.Img(src='your_image_url_here', style={'width': '80%', 'margin-top': '20px'}),\n",
        "        dcc.Loading(id=\"loading\", type=\"default\", children=[]),\n",
        "    ], style={'width': '80%', 'margin': 'auto', 'padding': '20px', 'border': '1px solid #ccc', 'border-radius': '10px'}),\n",
        "])\n",
        "\n",
        "# Define callback to update chat output\n",
        "@app.callback(\n",
        "    [Output('chat-history', 'value'),\n",
        "     Output('chat-store', 'data')],\n",
        "    [Input('send-button', 'n_clicks')],\n",
        "    [State('user-input', 'value'),\n",
        "     State('chat-store', 'data')]\n",
        ")\n",
        "def update_chat_history(n_clicks, user_input, chat_data):\n",
        "    if user_input.lower() == 'exit':\n",
        "        return \"Chatbot: Goodbye!\\n\", chat_data\n",
        "\n",
        "    if not chat_data:\n",
        "        chat_data = {'history': []}\n",
        "\n",
        "    if \"helpline\" in user_input.lower():\n",
        "        helpline_response = find_helpline(user_input)\n",
        "        chat_data['history'].append(f\"User: {user_input}\\nChatbot: {helpline_response}\\n\")\n",
        "    else:\n",
        "        chatbot_response = get_most_similar_response(user_input)\n",
        "        chat_data['history'].append(f\"User: {user_input}\\nChatbot: {chatbot_response}\\n\")\n",
        "\n",
        "    return ''.join(chat_data['history']), chat_data\n",
        "\n",
        "# Run the web application\n",
        "if __name__ == '__main__':\n",
        "    app.run_server(port=8050, debug=True)\n"
      ],
      "metadata": {
        "colab": {
          "base_uri": "https://localhost:8080/",
          "height": 671
        },
        "id": "7EB8ZcoFHuM0",
        "outputId": "592d2dec-7fad-4949-9270-171d96eb02ca"
      },
      "execution_count": null,
      "outputs": [
        {
          "output_type": "display_data",
          "data": {
            "text/plain": [
              "<IPython.core.display.Javascript object>"
            ],
            "application/javascript": [
              "(async (port, path, width, height, cache, element) => {\n",
              "    if (!google.colab.kernel.accessAllowed && !cache) {\n",
              "      return;\n",
              "    }\n",
              "    element.appendChild(document.createTextNode(''));\n",
              "    const url = await google.colab.kernel.proxyPort(port, {cache});\n",
              "    const iframe = document.createElement('iframe');\n",
              "    iframe.src = new URL(path, url).toString();\n",
              "    iframe.height = height;\n",
              "    iframe.width = width;\n",
              "    iframe.style.border = 0;\n",
              "    iframe.allow = [\n",
              "        'accelerometer',\n",
              "        'autoplay',\n",
              "        'camera',\n",
              "        'clipboard-read',\n",
              "        'clipboard-write',\n",
              "        'gyroscope',\n",
              "        'magnetometer',\n",
              "        'microphone',\n",
              "        'serial',\n",
              "        'usb',\n",
              "        'xr-spatial-tracking',\n",
              "    ].join('; ');\n",
              "    element.appendChild(iframe);\n",
              "  })(8050, \"/\", \"100%\", 650, false, window.element)"
            ]
          },
          "metadata": {}
        }
      ]
    }
  ],
  "metadata": {
    "colab": {
      "provenance": []
    },
    "kernelspec": {
      "display_name": "Python 3",
      "name": "python3"
    },
    "language_info": {
      "name": "python"
    }
  },
  "nbformat": 4,
  "nbformat_minor": 0
}